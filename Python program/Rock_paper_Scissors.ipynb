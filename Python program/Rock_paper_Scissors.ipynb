{
 "cells": [
  {
   "cell_type": "code",
   "execution_count": 10,
   "metadata": {},
   "outputs": [],
   "source": [
    "import random as rd\n",
    "l=[\"rock\",\"scissor\",\"paper\"]\n",
    "'''\n",
    "rock vs paper-> paper wins\n",
    "rock vs scissor-> rock wins\n",
    "paper vs scissor-> scissor wins.\n",
    "\n",
    "'''\n",
    "while True:\n",
    "    c = int(input('''\n",
    "Game Start.....\n",
    "1 Yes\n",
    "2 No | Exit\n",
    "    '''))\n",
    "    if c==1:\n",
    "        for a in range(1,6):\n",
    "            userval=input('''\n",
    "1 Rock\n",
    "2 Scissor\n",
    "3 Paper         \n",
    "            ''')\n",
    "\n",
    "    if userval==1:\n",
    "        unchoice=\"rock\"\n",
    "    elif userval==2:\n",
    "        unchoice=\"scissor\"\n",
    "    elif userval==3:\n",
    "        unchoice=\"paper\"\n",
    "        Cchoice=rd.choice(l) \n",
    "        print(\"user value\",unchoice)\n",
    "        print(\"computer value\",Cchoice)  \n",
    "    else:\n",
    "        break              \n"
   ]
  },
  {
   "cell_type": "code",
   "execution_count": 2,
   "metadata": {},
   "outputs": [
    {
     "name": "stdout",
     "output_type": "stream",
     "text": [
      "g\n",
      "e\n",
      "Out of for loop\n",
      "\n",
      "g\n",
      "e\n",
      "Out of while loop \n"
     ]
    }
   ],
   "source": []
  },
  {
   "cell_type": "code",
   "execution_count": null,
   "metadata": {},
   "outputs": [],
   "source": []
  }
 ],
 "metadata": {
  "kernelspec": {
   "display_name": "Python 3",
   "language": "python",
   "name": "python3"
  },
  "language_info": {
   "codemirror_mode": {
    "name": "ipython",
    "version": 3
   },
   "file_extension": ".py",
   "mimetype": "text/x-python",
   "name": "python",
   "nbconvert_exporter": "python",
   "pygments_lexer": "ipython3",
   "version": "3.10.4 (tags/v3.10.4:9d38120, Mar 23 2022, 23:13:41) [MSC v.1929 64 bit (AMD64)]"
  },
  "orig_nbformat": 4,
  "vscode": {
   "interpreter": {
    "hash": "be4ba2eea7440f0872637eafd588a6df8252e11914db5e4bfba0297ba1a11246"
   }
  }
 },
 "nbformat": 4,
 "nbformat_minor": 2
}
