{
 "cells": [
  {
   "cell_type": "code",
   "execution_count": 24,
   "metadata": {},
   "outputs": [
    {
     "name": "stdout",
     "output_type": "stream",
     "text": [
      "not corrct\n"
     ]
    }
   ],
   "source": [
    "email=input('enter your email')\n",
    "password = input('enter your password')\n",
    "if email =='k@gmail.com' and password =='1234':\n",
    "    print('welcome')\n",
    "elif email =='k@gmail.com' and password =='1234':\n",
    "    print('incorrect password')\n",
    "    password = input('enter your pass again')\n",
    "    if password == '1234':\n",
    "        print('welcome')\n",
    "    else :\n",
    "        print('beta tum se na ho payega')\n",
    "else:\n",
    "    print('not corrct')                \n",
    "\n",
    "        \n",
    "\n",
    "\n",
    "\n"
   ]
  },
  {
   "cell_type": "code",
   "execution_count": 8,
   "metadata": {},
   "outputs": [
    {
     "name": "stdout",
     "output_type": "stream",
     "text": [
      "smallest 7\n"
     ]
    }
   ],
   "source": [
    "a=int(input('first num'))\n",
    "b=int(input('second num'))\n",
    "c=int(input('third num'))\n",
    "if a<b == a<c:\n",
    "    print('smallest',a)\n",
    "elif b<c:\n",
    "    print('smallest',b)\n",
    "else :\n",
    "    print('smallest',c)        \n"
   ]
  },
  {
   "cell_type": "code",
   "execution_count": 11,
   "metadata": {},
   "outputs": [
    {
     "name": "stdout",
     "output_type": "stream",
     "text": [
      "89756779646.0\n"
     ]
    }
   ],
   "source": [
    "fnum=int(input('enter the fnum'))\n",
    "snum=int(input('enter the snum'))\n",
    "op=input('enter the opration')\n",
    "if op=='+':\n",
    "    print(fnum + snum)\n",
    "elif op=='-':\n",
    "    print(fnum - snum)\n",
    "elif op=='*':   \n",
    "    print(fnum * snum) \n",
    "elif op=='/':\n",
    "    print(fnum / snum)    \n",
    "        \n"
   ]
  },
  {
   "attachments": {},
   "cell_type": "markdown",
   "metadata": {},
   "source": [
    "Import"
   ]
  },
  {
   "cell_type": "code",
   "execution_count": 13,
   "metadata": {},
   "outputs": [
    {
     "name": "stdout",
     "output_type": "stream",
     "text": [
      "['False', 'None', 'True', 'and', 'as', 'assert', 'async', 'await', 'break', 'class', 'continue', 'def', 'del', 'elif', 'else', 'except', 'finally', 'for', 'from', 'global', 'if', 'import', 'in', 'is', 'lambda', 'nonlocal', 'not', 'or', 'pass', 'raise', 'return', 'try', 'while', 'with', 'yield']\n"
     ]
    }
   ],
   "source": [
    "import keyword\n",
    "print(keyword.kwlist)"
   ]
  },
  {
   "cell_type": "code",
   "execution_count": 18,
   "metadata": {},
   "outputs": [
    {
     "name": "stdout",
     "output_type": "stream",
     "text": [
      "30\n"
     ]
    }
   ],
   "source": [
    "import random\n",
    "print(random.randint(1,100))"
   ]
  },
  {
   "cell_type": "code",
   "execution_count": 21,
   "metadata": {},
   "outputs": [
    {
     "name": "stdout",
     "output_type": "stream",
     "text": [
      "2023-01-07 16:58:20.881810\n"
     ]
    }
   ],
   "source": [
    "import datetime\n",
    "print(datetime.datetime.now())"
   ]
  },
  {
   "cell_type": "code",
   "execution_count": 23,
   "metadata": {},
   "outputs": [
    {
     "name": "stdout",
     "output_type": "stream",
     "text": [
      "guess higher\n",
      "guess higher\n",
      "guess lower\n",
      "guess higher\n",
      "correct guess\n"
     ]
    }
   ],
   "source": [
    "#gassng game\n",
    "import random \n",
    "jackpot = random.randint(1,100)\n",
    "guess=int(input('guess karo'))\n",
    "while guess != jackpot:\n",
    " if guess> jackpot:\n",
    "    print('guess lower')\n",
    " elif guess < jackpot:\n",
    "    print('guess higher') \n",
    " guess=int(input('guess karo'))\n",
    "\n",
    "else:\n",
    "    print('correct guess')       \n"
   ]
  },
  {
   "cell_type": "code",
   "execution_count": null,
   "metadata": {},
   "outputs": [],
   "source": []
  }
 ],
 "metadata": {
  "kernelspec": {
   "display_name": "Python 3",
   "language": "python",
   "name": "python3"
  },
  "language_info": {
   "codemirror_mode": {
    "name": "ipython",
    "version": 3
   },
   "file_extension": ".py",
   "mimetype": "text/x-python",
   "name": "python",
   "nbconvert_exporter": "python",
   "pygments_lexer": "ipython3",
   "version": "3.10.4 (tags/v3.10.4:9d38120, Mar 23 2022, 23:13:41) [MSC v.1929 64 bit (AMD64)]"
  },
  "orig_nbformat": 4,
  "vscode": {
   "interpreter": {
    "hash": "be4ba2eea7440f0872637eafd588a6df8252e11914db5e4bfba0297ba1a11246"
   }
  }
 },
 "nbformat": 4,
 "nbformat_minor": 2
}
